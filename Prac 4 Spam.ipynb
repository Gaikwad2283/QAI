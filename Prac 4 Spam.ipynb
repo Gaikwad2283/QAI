{
 "cells": [
  {
   "cell_type": "code",
   "execution_count": 4,
   "id": "62470411",
   "metadata": {},
   "outputs": [
    {
     "name": "stdout",
     "output_type": "stream",
     "text": [
      "Classification Report:\n",
      "              precision    recall  f1-score   support\n",
      "\n",
      "           0       0.81      1.00      0.89       807\n",
      "           1       1.00      0.51      0.68       402\n",
      "\n",
      "    accuracy                           0.84      1209\n",
      "   macro avg       0.90      0.76      0.79      1209\n",
      "weighted avg       0.87      0.84      0.82      1209\n",
      "\n",
      "\n",
      "Confusion Matrix:\n",
      "[[807   0]\n",
      " [195 207]]\n",
      "\n",
      "Accuracy Score: 0.8387096774193549\n",
      "\n",
      "The email is classified as spam.\n"
     ]
    }
   ],
   "source": [
    "import numpy as np\n",
    "import pandas as pd\n",
    "from sklearn.feature_extraction.text import CountVectorizer, TfidfTransformer\n",
    "from sklearn.naive_bayes import MultinomialNB\n",
    "from sklearn.model_selection import train_test_split\n",
    "from sklearn.metrics import classification_report, confusion_matrix, accuracy_score\n",
    "\n",
    "# Load dataset\n",
    "data = pd.read_csv('completeSpamAssassin.csv')\n",
    "\n",
    "# Drop missing values\n",
    "data = data.dropna()\n",
    "\n",
    "# Display first and last rows of the dataset\n",
    "data.head()\n",
    "data.tail()\n",
    "\n",
    "# Assign features and labels\n",
    "x = data['Body']\n",
    "y = data['Label']\n",
    "\n",
    "# Split data into training and testing sets\n",
    "X_train, X_test, y_train, y_test = train_test_split(x, y, test_size=0.2, random_state=42)\n",
    "\n",
    "# Convert text to a bag of words using CountVectorizer\n",
    "vectorizer = CountVectorizer()\n",
    "tfidf_transformer = TfidfTransformer()\n",
    "\n",
    "# Fit and transform the training data\n",
    "X_train_counts = vectorizer.fit_transform(X_train)\n",
    "X_train_tfidf = tfidf_transformer.fit_transform(X_train_counts)\n",
    "\n",
    "# Train the Naive Bayes classifier\n",
    "clf = MultinomialNB()\n",
    "clf.fit(X_train_tfidf, y_train)\n",
    "\n",
    "# Make predictions on the test set\n",
    "X_test_counts = vectorizer.transform(X_test)\n",
    "X_test_tfidf = tfidf_transformer.transform(X_test_counts)\n",
    "y_pred = clf.predict(X_test_tfidf)\n",
    "\n",
    "# Display classification report, confusion matrix, and accuracy score\n",
    "print(\"Classification Report:\")\n",
    "print(classification_report(y_test, y_pred))\n",
    "\n",
    "print(\"\\nConfusion Matrix:\")\n",
    "print(confusion_matrix(y_test, y_pred))\n",
    "\n",
    "print(\"\\nAccuracy Score:\", accuracy_score(y_test, y_pred))\n",
    "\n",
    "# Predict for a new email\n",
    "new_email = [\"Congratulations! You've won a million dollars!\"]\n",
    "new_email_counts = vectorizer.transform(new_email)\n",
    "new_email_tfidf = tfidf_transformer.transform(new_email_counts)\n",
    "prediction = clf.predict(new_email_tfidf)\n",
    "\n",
    "if prediction[0] == 1:\n",
    "    print(\"\\nThe email is classified as spam.\")\n",
    "else:\n",
    "    print(\"\\nThe email is classified as ham.\")\n"
   ]
  },
  {
   "cell_type": "code",
   "execution_count": null,
   "id": "d53f4fc1",
   "metadata": {},
   "outputs": [],
   "source": []
  }
 ],
 "metadata": {
  "kernelspec": {
   "display_name": "Python 3 (ipykernel)",
   "language": "python",
   "name": "python3"
  },
  "language_info": {
   "codemirror_mode": {
    "name": "ipython",
    "version": 3
   },
   "file_extension": ".py",
   "mimetype": "text/x-python",
   "name": "python",
   "nbconvert_exporter": "python",
   "pygments_lexer": "ipython3",
   "version": "3.11.5"
  }
 },
 "nbformat": 4,
 "nbformat_minor": 5
}
