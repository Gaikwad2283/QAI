{
 "cells": [
  {
   "cell_type": "code",
   "execution_count": 1,
   "metadata": {
    "colab": {
     "base_uri": "https://localhost:8080/"
    },
    "id": "RwITorc0DafW",
    "outputId": "b496df76-db20-403b-93ff-c484f6971daf"
   },
   "outputs": [
    {
     "name": "stdout",
     "output_type": "stream",
     "text": [
      "Requirement already satisfied: qiskit in c:\\users\\priya\\anaconda3\\lib\\site-packages (1.2.4)\n",
      "Requirement already satisfied: qiskit-aer in c:\\users\\priya\\anaconda3\\lib\\site-packages (0.15.1)\n",
      "Requirement already satisfied: rustworkx>=0.15.0 in c:\\users\\priya\\anaconda3\\lib\\site-packages (from qiskit) (0.15.1)\n",
      "Requirement already satisfied: numpy<3,>=1.17 in c:\\users\\priya\\anaconda3\\lib\\site-packages (from qiskit) (1.24.3)\n",
      "Requirement already satisfied: scipy>=1.5 in c:\\users\\priya\\anaconda3\\lib\\site-packages (from qiskit) (1.11.1)\n",
      "Requirement already satisfied: sympy>=1.3 in c:\\users\\priya\\anaconda3\\lib\\site-packages (from qiskit) (1.13.1)\n",
      "Requirement already satisfied: dill>=0.3 in c:\\users\\priya\\anaconda3\\lib\\site-packages (from qiskit) (0.3.6)\n",
      "Requirement already satisfied: python-dateutil>=2.8.0 in c:\\users\\priya\\anaconda3\\lib\\site-packages (from qiskit) (2.8.2)\n",
      "Requirement already satisfied: stevedore>=3.0.0 in c:\\users\\priya\\anaconda3\\lib\\site-packages (from qiskit) (5.3.0)\n",
      "Requirement already satisfied: typing-extensions in c:\\users\\priya\\anaconda3\\lib\\site-packages (from qiskit) (4.12.2)\n",
      "Requirement already satisfied: symengine<0.14,>=0.11 in c:\\users\\priya\\anaconda3\\lib\\site-packages (from qiskit) (0.13.0)\n",
      "Requirement already satisfied: psutil>=5 in c:\\users\\priya\\anaconda3\\lib\\site-packages (from qiskit-aer) (5.9.0)\n",
      "Requirement already satisfied: six>=1.5 in c:\\users\\priya\\anaconda3\\lib\\site-packages (from python-dateutil>=2.8.0->qiskit) (1.16.0)\n",
      "Requirement already satisfied: pbr>=2.0.0 in c:\\users\\priya\\anaconda3\\lib\\site-packages (from stevedore>=3.0.0->qiskit) (6.1.0)\n",
      "Requirement already satisfied: mpmath<1.4,>=1.1.0 in c:\\users\\priya\\anaconda3\\lib\\site-packages (from sympy>=1.3->qiskit) (1.3.0)\n"
     ]
    }
   ],
   "source": [
    "!pip install qiskit qiskit-aer"
   ]
  },
  {
   "cell_type": "code",
   "execution_count": 2,
   "metadata": {
    "id": "6RrzG9juDBFp"
   },
   "outputs": [],
   "source": [
    "from qiskit import QuantumCircuit, ClassicalRegister, QuantumRegister,transpile\n",
    "from qiskit.circuit.library import GroverOperator\n",
    "from qiskit_aer import AerSimulator"
   ]
  },
  {
   "cell_type": "code",
   "execution_count": 3,
   "metadata": {
    "id": "Nd5UzvUoDIgu"
   },
   "outputs": [],
   "source": [
    "import matplotlib.pyplot as plt\n",
    "import seaborn as sns"
   ]
  },
  {
   "cell_type": "code",
   "execution_count": 4,
   "metadata": {
    "id": "Sq4hCFPKDNr7"
   },
   "outputs": [],
   "source": [
    "def create_3_puzzle_circuit():\n",
    "    \"\"\"Create the quantum circuit for solving the 3-puzzle problem using Grover's algorithm.\"\"\"\n",
    "    # Initialize quantum and classical registers\n",
    "    qr = QuantumRegister(3, 'q')\n",
    "    cr = ClassicalRegister(3, 'c')\n",
    "    qc = QuantumCircuit(qr, cr)\n",
    "\n",
    "    # Initial state |000>\n",
    "    # CNOT gates to exchange positions of qubits\n",
    "    qc.cx(qr[0], qr[1])\n",
    "    qc.cx(qr[1], qr[2])\n",
    "\n",
    "    # Apply Hadamard gates to create superposition\n",
    "    qc.h(qr[0])\n",
    "    qc.h(qr[1])\n",
    "    qc.h(qr[2])\n",
    "\n",
    "    # Placeholder for Grover's algorithm\n",
    "    # This requires defining an oracle and the Grover operator\n",
    "    # Here we use a simple placeholder to illustrate the concept\n",
    "    oracle = QuantumCircuit(3)\n",
    "    oracle.z(0)  # Example oracle condition (adjust based on the puzzle's rules)\n",
    "    oracle_gate = oracle.to_gate(label=\"Oracle\")\n",
    "\n",
    "    # Grover operator\n",
    "    grover_operator = GroverOperator(oracle)\n",
    "    qc.append(grover_operator, qr)\n",
    "\n",
    "    # Measurement\n",
    "    qc.measure(qr, cr)\n",
    "    return qc"
   ]
  },
  {
   "cell_type": "code",
   "execution_count": 5,
   "metadata": {
    "colab": {
     "base_uri": "https://localhost:8080/"
    },
    "id": "4S3685UdDPob",
    "outputId": "d5ec1bf5-317e-4780-9a13-87789a006cc2"
   },
   "outputs": [
    {
     "name": "stdout",
     "output_type": "stream",
     "text": [
      "Measurement results from the 3-puzzle quantum circuit:\n",
      "{'001': 133, '110': 142, '101': 121, '010': 138, '011': 119, '100': 123, '000': 125, '111': 123}\n"
     ]
    }
   ],
   "source": [
    "# Create the 3-puzzle quantum circuit\n",
    "qc = create_3_puzzle_circuit()\n",
    "\n",
    "# Execute the circuit on a quantum simulator\n",
    "simulator = AerSimulator()\n",
    "transpiled_qc = transpile(qc, simulator)\n",
    "\n",
    "job = simulator.run(transpiled_qc, shots=1024)\n",
    "result = job.result()\n",
    "counts = result.get_counts()\n",
    "\n",
    "# Output the result\n",
    "print(\"Measurement results from the 3-puzzle quantum circuit:\")\n",
    "print(counts)"
   ]
  },
  {
   "cell_type": "code",
   "execution_count": 6,
   "metadata": {
    "colab": {
     "base_uri": "https://localhost:8080/",
     "height": 472
    },
    "id": "6xP5fGcWDRh6",
    "outputId": "c807586e-34b0-43ea-921b-5668335050d7"
   },
   "outputs": [
    {
     "data": {
      "image/png": "[encoded data removed]",
      "text/plain": [
       "<Figure size 640x480 with 1 Axes>"
      ]
     },
     "metadata": {},
     "output_type": "display_data"
    }
   ],
   "source": [
    "sns.barplot(x=list(counts.keys()), y=list(counts.values()))\n",
    "plt.xlabel('Measurement Outcomes')\n",
    "plt.ylabel('Counts')\n",
    "plt.title('3-Puzzle Quantum Circuit Measurement Results')\n",
    "plt.show()"
   ]
  }
 ],
 "metadata": {
  "colab": {
   "provenance": []
  },
  "kernelspec": {
   "display_name": "Python 3 (ipykernel)",
   "language": "python",
   "name": "python3"
  },
  "language_info": {
   "codemirror_mode": {
    "name": "ipython",
    "version": 3
   },
   "file_extension": ".py",
   "mimetype": "text/x-python",
   "name": "python",
   "nbconvert_exporter": "python",
   "pygments_lexer": "ipython3",
   "version": "3.11.5"
  }
 },
 "nbformat": 4,
 "nbformat_minor": 1
}
