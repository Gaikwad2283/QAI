{
 "cells": [
  {
   "cell_type": "code",
   "execution_count": 1,
   "metadata": {
    "id": "AoPOUSyKEkJs"
   },
   "outputs": [],
   "source": [
    "import numpy as np\n",
    "from qiskit import QuantumRegister, ClassicalRegister\n",
    "from qiskit import QuantumCircuit,transpile\n",
    "from qiskit_aer import AerSimulator"
   ]
  },
  {
   "cell_type": "code",
   "execution_count": 2,
   "metadata": {
    "id": "Dgn350JoEqr1"
   },
   "outputs": [],
   "source": [
    "from qiskit.circuit.library import QFT"
   ]
  },
  {
   "cell_type": "code",
   "execution_count": 3,
   "metadata": {
    "id": "ZGwp760eEsZ_"
   },
   "outputs": [],
   "source": [
    "# Set up the AerSimulator backend\n",
    "simulator = AerSimulator()"
   ]
  },
  {
   "cell_type": "code",
   "execution_count": 4,
   "metadata": {
    "id": "WCcGD8GYEuOX"
   },
   "outputs": [],
   "source": [
    "q = QuantumRegister(5,'q')\n",
    "c = ClassicalRegister(5,'c')\n",
    "circuit = QuantumCircuit(q,c)"
   ]
  },
  {
   "cell_type": "code",
   "execution_count": 5,
   "metadata": {
    "id": "q9wABheAEvwK"
   },
   "outputs": [],
   "source": [
    "circuit = QuantumCircuit(q, c)"
   ]
  },
  {
   "cell_type": "code",
   "execution_count": 6,
   "metadata": {
    "colab": {
     "base_uri": "https://localhost:8080/"
    },
    "id": "dc3BnqmYExcp",
    "outputId": "b390952e-f112-4749-f00d-91307e9d1819"
   },
   "outputs": [
    {
     "data": {
      "text/plain": [
       "<qiskit.circuit.instructionset.InstructionSet at 0x1f2e7e09a80>"
      ]
     },
     "execution_count": 6,
     "metadata": {},
     "output_type": "execute_result"
    }
   ],
   "source": [
    "circuit.h(q)"
   ]
  },
  {
   "cell_type": "code",
   "execution_count": 7,
   "metadata": {
    "colab": {
     "base_uri": "https://localhost:8080/"
    },
    "id": "lfw-K2wCEzPF",
    "outputId": "f09a6284-0b45-4f41-9833-b1ca66112733"
   },
   "outputs": [
    {
     "data": {
      "text/plain": [
       "<qiskit.circuit.instructionset.InstructionSet at 0x1f2e7e09ff0>"
      ]
     },
     "execution_count": 7,
     "metadata": {},
     "output_type": "execute_result"
    }
   ],
   "source": [
    "# Apply X gates to specific qubits (as per your original code)\n",
    "circuit.x(q[4])\n",
    "circuit.x(q[2])\n",
    "circuit.x(q[0])"
   ]
  },
  {
   "cell_type": "code",
   "execution_count": 8,
   "metadata": {
    "colab": {
     "base_uri": "https://localhost:8080/"
    },
    "id": "Ep7IaMhSE1TI",
    "outputId": "a6497ae8-21c1-4640-8537-0702c023e5d3"
   },
   "outputs": [
    {
     "data": {
      "text/plain": [
       "<qiskit.circuit.instructionset.InstructionSet at 0x1f2e7e09f00>"
      ]
     },
     "execution_count": 8,
     "metadata": {},
     "output_type": "execute_result"
    }
   ],
   "source": [
    "# Apply the Quantum Fourier Transform (QFT)\n",
    "qft_circuit = QFT(num_qubits=5, approximation_degree=0, do_swaps=True, inverse=False, insert_barriers=False, name=\"qft\")\n",
    "circuit.append(qft_circuit, q)"
   ]
  },
  {
   "cell_type": "code",
   "execution_count": 9,
   "metadata": {
    "colab": {
     "base_uri": "https://localhost:8080/",
     "height": 217
    },
    "id": "xlvlEc_SE3dH",
    "outputId": "b68a0709-b3c0-41ef-b0b1-88a315476de3"
   },
   "outputs": [
    {
     "data": {
      "text/html": [
       "<pre style=\"word-wrap: normal;white-space: pre;background: #fff0;line-height: 1.1;font-family: &quot;Courier New&quot;,Courier,monospace\">     ┌───┐┌───┐┌──────┐┌──────┐┌─┐            \n",
       "q_0: ┤ H ├┤ X ├┤0     ├┤0     ├┤M├────────────\n",
       "     ├───┤└───┘│      ││      │└╥┘┌─┐         \n",
       "q_1: ┤ H ├─────┤1     ├┤1     ├─╫─┤M├─────────\n",
       "     ├───┤┌───┐│      ││      │ ║ └╥┘┌─┐      \n",
       "q_2: ┤ H ├┤ X ├┤2 qft ├┤2 qft ├─╫──╫─┤M├──────\n",
       "     ├───┤└───┘│      ││      │ ║  ║ └╥┘┌─┐   \n",
       "q_3: ┤ H ├─────┤3     ├┤3     ├─╫──╫──╫─┤M├───\n",
       "     ├───┤┌───┐│      ││      │ ║  ║  ║ └╥┘┌─┐\n",
       "q_4: ┤ H ├┤ X ├┤4     ├┤4     ├─╫──╫──╫──╫─┤M├\n",
       "     └───┘└───┘└──────┘└──────┘ ║  ║  ║  ║ └╥┘\n",
       "c: 5/═══════════════════════════╩══╩══╩══╩══╩═\n",
       "                                0  1  2  3  4 </pre>"
      ],
      "text/plain": [
       "     ┌───┐┌───┐┌──────┐┌──────┐┌─┐            \n",
       "q_0: ┤ H ├┤ X ├┤0     ├┤0     ├┤M├────────────\n",
       "     ├───┤└───┘│      ││      │└╥┘┌─┐         \n",
       "q_1: ┤ H ├─────┤1     ├┤1     ├─╫─┤M├─────────\n",
       "     ├───┤┌───┐│      ││      │ ║ └╥┘┌─┐      \n",
       "q_2: ┤ H ├┤ X ├┤2 qft ├┤2 qft ├─╫──╫─┤M├──────\n",
       "     ├───┤└───┘│      ││      │ ║  ║ └╥┘┌─┐   \n",
       "q_3: ┤ H ├─────┤3     ├┤3     ├─╫──╫──╫─┤M├───\n",
       "     ├───┤┌───┐│      ││      │ ║  ║  ║ └╥┘┌─┐\n",
       "q_4: ┤ H ├┤ X ├┤4     ├┤4     ├─╫──╫──╫──╫─┤M├\n",
       "     └───┘└───┘└──────┘└──────┘ ║  ║  ║  ║ └╥┘\n",
       "c: 5/═══════════════════════════╩══╩══╩══╩══╩═\n",
       "                                0  1  2  3  4 "
      ]
     },
     "execution_count": 9,
     "metadata": {},
     "output_type": "execute_result"
    }
   ],
   "source": [
    "circuit = circuit.compose(qft_circuit)\n",
    "circuit.measure(q,c) # Measure the qubits and store the result in classical register\n",
    "circuit.draw()"
   ]
  },
  {
   "cell_type": "code",
   "execution_count": 10,
   "metadata": {
    "id": "o7wln2lvE5G4"
   },
   "outputs": [],
   "source": [
    "transpiled_circuit = transpile(circuit, simulator)"
   ]
  },
  {
   "cell_type": "code",
   "execution_count": 11,
   "metadata": {
    "id": "q9Tg9yfmE6r6"
   },
   "outputs": [],
   "source": [
    "job = simulator.run(transpiled_circuit,shots=1000)"
   ]
  },
  {
   "cell_type": "code",
   "execution_count": 12,
   "metadata": {
    "colab": {
     "base_uri": "https://localhost:8080/"
    },
    "id": "tmTD2gEdE8ux",
    "outputId": "de023b3f-c054-4f84-aad6-2333d96f7df2"
   },
   "outputs": [
    {
     "name": "stdout",
     "output_type": "stream",
     "text": [
      "Job is running...\n",
      "Final job status: JobStatus.DONE\n"
     ]
    }
   ],
   "source": [
    "print(\"Job is running...\")\n",
    "print(f\"Final job status: {job.status()}\")"
   ]
  },
  {
   "cell_type": "code",
   "execution_count": 13,
   "metadata": {
    "colab": {
     "base_uri": "https://localhost:8080/"
    },
    "id": "VRKHWn46E-Z-",
    "outputId": "6ca5d8a4-67ee-43a3-e552-551db65a28fe"
   },
   "outputs": [
    {
     "name": "stdout",
     "output_type": "stream",
     "text": [
      "\n",
      " QFT Output\n",
      "-------------\n",
      "{'00001': 33, '10000': 34, '10010': 30, '11011': 32, '10011': 30, '11100': 35, '11010': 31, '00100': 38, '11000': 35, '00000': 35, '01100': 26, '01001': 32, '11001': 32, '01110': 32, '11110': 29, '00111': 28, '00010': 22, '01000': 29, '01011': 35, '00101': 33, '11101': 36, '01101': 33, '01010': 41, '10110': 24, '00011': 37, '10111': 36, '11111': 25, '10100': 32, '10101': 30, '01111': 26, '10001': 22, '00110': 27}\n"
     ]
    }
   ],
   "source": [
    "job_result = job.result()\n",
    "counts = job_result.get_counts()\n",
    "print(\"\\n QFT Output\")\n",
    "print(\"-------------\")\n",
    "print(counts)"
   ]
  }
 ],
 "metadata": {
  "colab": {
   "provenance": []
  },
  "kernelspec": {
   "display_name": "Python 3 (ipykernel)",
   "language": "python",
   "name": "python3"
  },
  "language_info": {
   "codemirror_mode": {
    "name": "ipython",
    "version": 3
   },
   "file_extension": ".py",
   "mimetype": "text/x-python",
   "name": "python",
   "nbconvert_exporter": "python",
   "pygments_lexer": "ipython3",
   "version": "3.11.5"
  }
 },
 "nbformat": 4,
 "nbformat_minor": 1
}
